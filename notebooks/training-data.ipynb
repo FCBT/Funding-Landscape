{
 "cells": [
  {
   "cell_type": "code",
   "execution_count": 31,
   "id": "d94acd55-ac4d-497d-bde6-92fedaabca27",
   "metadata": {},
   "outputs": [],
   "source": [
    "import gensim\n",
    "import csv\n",
    "import pandas as pd\n",
    "import seaborn as sns\n",
    "from collections import Counter"
   ]
  },
  {
   "cell_type": "markdown",
   "id": "fcb2dccb-634f-4323-a76b-66c6e5af3f79",
   "metadata": {},
   "source": [
    "Count how many rows in the tokenized titles and abstracts. "
   ]
  },
  {
   "cell_type": "code",
   "execution_count": 2,
   "id": "84214df3-5f42-430d-a990-75a0096f2251",
   "metadata": {},
   "outputs": [],
   "source": [
    "with open(\"../clean-data/fine-scale/training-data/titles-abstracts-tokenized.csv\") as f:\n",
    "    n = sum(1 for line in f)"
   ]
  },
  {
   "cell_type": "code",
   "execution_count": 3,
   "id": "9d215930-0778-422a-99c4-f5e5089e20f2",
   "metadata": {},
   "outputs": [
    {
     "name": "stdout",
     "output_type": "stream",
     "text": [
      "495110\n"
     ]
    }
   ],
   "source": [
    "print(n)"
   ]
  },
  {
   "cell_type": "markdown",
   "id": "4e1c7806-a99e-4e59-b1d2-b1ccbf11c9ab",
   "metadata": {},
   "source": [
    "Load dictionary and corpus, these were made using a bigram model made with the NSF, NIH and UKRI data. The corpus and dictionary also excluded documents with less than 20 tokens."
   ]
  },
  {
   "cell_type": "code",
   "execution_count": 4,
   "id": "ecfeb1b7-8434-4875-8d6f-1f7da5889c67",
   "metadata": {},
   "outputs": [],
   "source": [
    "dictionary = gensim.corpora.Dictionary.load('../clean-data/fine-scale/training-data/dictionary.dict')\n",
    "corpus = gensim.corpora.MmCorpus('../clean-data/fine-scale/training-data/corpus.mm')"
   ]
  },
  {
   "cell_type": "code",
   "execution_count": 5,
   "id": "355a0b51-50a8-471b-8722-9b315ea0a2af",
   "metadata": {},
   "outputs": [
    {
     "data": {
      "text/plain": [
       "6239"
      ]
     },
     "execution_count": 5,
     "metadata": {},
     "output_type": "execute_result"
    }
   ],
   "source": [
    "len(dictionary)"
   ]
  },
  {
   "cell_type": "code",
   "execution_count": 6,
   "id": "31ef9937-58d4-4ad5-89cf-53043e48d614",
   "metadata": {},
   "outputs": [
    {
     "data": {
      "text/plain": [
       "381908"
      ]
     },
     "execution_count": 6,
     "metadata": {},
     "output_type": "execute_result"
    }
   ],
   "source": [
    "len(corpus)"
   ]
  },
  {
   "cell_type": "code",
   "execution_count": 14,
   "id": "15373c58-4b13-4d00-9b1b-4b6318e0d2f2",
   "metadata": {},
   "outputs": [],
   "source": [
    "coherence_scores = pd.read_csv('../results/fine-scale/coherence-scores/training-data/calculated_coherence.csv')"
   ]
  },
  {
   "cell_type": "code",
   "execution_count": 17,
   "id": "18114de9-f380-4657-af24-50bab8224305",
   "metadata": {},
   "outputs": [
    {
     "data": {
      "text/html": [
       "<div>\n",
       "<style scoped>\n",
       "    .dataframe tbody tr th:only-of-type {\n",
       "        vertical-align: middle;\n",
       "    }\n",
       "\n",
       "    .dataframe tbody tr th {\n",
       "        vertical-align: top;\n",
       "    }\n",
       "\n",
       "    .dataframe thead th {\n",
       "        text-align: right;\n",
       "    }\n",
       "</style>\n",
       "<table border=\"1\" class=\"dataframe\">\n",
       "  <thead>\n",
       "    <tr style=\"text-align: right;\">\n",
       "      <th></th>\n",
       "      <th>Unnamed: 0</th>\n",
       "      <th>Topics</th>\n",
       "      <th>umass</th>\n",
       "    </tr>\n",
       "  </thead>\n",
       "  <tbody>\n",
       "    <tr>\n",
       "      <th>0</th>\n",
       "      <td>0</td>\n",
       "      <td>400</td>\n",
       "      <td>-8.825418</td>\n",
       "    </tr>\n",
       "    <tr>\n",
       "      <th>1</th>\n",
       "      <td>1</td>\n",
       "      <td>100</td>\n",
       "      <td>-4.393125</td>\n",
       "    </tr>\n",
       "    <tr>\n",
       "      <th>2</th>\n",
       "      <td>2</td>\n",
       "      <td>125</td>\n",
       "      <td>-5.492671</td>\n",
       "    </tr>\n",
       "    <tr>\n",
       "      <th>3</th>\n",
       "      <td>3</td>\n",
       "      <td>50</td>\n",
       "      <td>-2.516706</td>\n",
       "    </tr>\n",
       "    <tr>\n",
       "      <th>4</th>\n",
       "      <td>4</td>\n",
       "      <td>300</td>\n",
       "      <td>-8.825418</td>\n",
       "    </tr>\n",
       "  </tbody>\n",
       "</table>\n",
       "</div>"
      ],
      "text/plain": [
       "   Unnamed: 0  Topics     umass\n",
       "0           0     400 -8.825418\n",
       "1           1     100 -4.393125\n",
       "2           2     125 -5.492671\n",
       "3           3      50 -2.516706\n",
       "4           4     300 -8.825418"
      ]
     },
     "execution_count": 17,
     "metadata": {},
     "output_type": "execute_result"
    }
   ],
   "source": [
    "coherence_scores\n"
   ]
  },
  {
   "cell_type": "code",
   "execution_count": 19,
   "id": "47c122b8-e7b7-4bbb-b648-686cafc945f3",
   "metadata": {},
   "outputs": [
    {
     "data": {
      "text/plain": [
       "<AxesSubplot:xlabel='Topics', ylabel='umass'>"
      ]
     },
     "execution_count": 19,
     "metadata": {},
     "output_type": "execute_result"
    },
    {
     "data": {
      "image/png": "[encoded data removed]",
      "text/plain": [
       "<Figure size 432x288 with 1 Axes>"
      ]
     },
     "metadata": {},
     "output_type": "display_data"
    }
   ],
   "source": [
    "sns.set_theme(style=\"ticks\")\n",
    "\n",
    "sns.lineplot(x=\"Topics\", y=\"umass\", data =coherence_scores)"
   ]
  },
  {
   "cell_type": "code",
   "execution_count": 45,
   "id": "2dbf3a59-1cc5-419d-beb8-2a57d939096b",
   "metadata": {},
   "outputs": [],
   "source": [
    "lda = gensim.models.ldamulticore.LdaMulticore.load('../results/fine-scale/lda-models/training-model/model_125_topics')"
   ]
  },
  {
   "cell_type": "code",
   "execution_count": 46,
   "id": "6afdb68e-e7ca-41e1-8b87-c2fa1f81fd19",
   "metadata": {},
   "outputs": [],
   "source": [
    "output_array = []\n",
    "for j in range(lda.num_topics):\n",
    "    topic_list = [str(i[0]) for i in lda.get_topic_terms(j)]\n",
    "    topic_list.sort()\n",
    "    output_array.append(\"\".join(topic_list))"
   ]
  },
  {
   "cell_type": "code",
   "execution_count": 47,
   "id": "49d6cadf-d090-41e6-9659-f2a72907d1f6",
   "metadata": {},
   "outputs": [
    {
     "data": {
      "text/plain": [
       "1"
      ]
     },
     "execution_count": 47,
     "metadata": {},
     "output_type": "execute_result"
    }
   ],
   "source": [
    "max(Counter(output_array).values())"
   ]
  },
  {
   "cell_type": "code",
   "execution_count": 48,
   "id": "c871bedd-c6a4-409a-ab59-f13f90081c73",
   "metadata": {},
   "outputs": [
    {
     "name": "stdout",
     "output_type": "stream",
     "text": [
      "                 0                  1                   2                3                   4                    5                 6                    7                    8                   9\n",
      "0         fracture             mantle               crack         pressure               earth              mineral               pde                 rock                 slab             mooring\n",
      "1        equipment        acquisition           shipboard         facility     instrumentation                  mem              item           instrument           laboratory          department\n",
      "2              reu            student                site       experience              summer              program              week        undergraduate              faculty             project\n",
      "3            graph               data           reasoning            query            database            analytics       information            secretion       discrimination                user\n",
      "4           carbon      phytoplankton               ocean            water             cycling               marine           microbe            dissolved           production            nutrient\n",
      "5          grantee          september                vlsi              dot                 acm               voting            colony                  ate         dissociation              router\n",
      "6          quantum              laser                atom       microscope            molecule              imaging          electron         spectroscopy             material             surface\n",
      "7           memory            emotion            analyzer     reproduction                trap          equivalence             flare                  fly                  cue       consolidation\n",
      "8             seal                rat            campaign  carnegie_mellon             casting                 news             maker                 juan                crest  particulate_matter\n",
      "9             cell            hormone                male              sex     differentiation            offspring        plasticity               animal               embryo            behavior\n",
      "10      laboratory   summer_institute              course          student        introduction           curriculum           science          orientation             exercise             culture\n",
      "11            gene                dna              genome         sequence          sequencing             genomics           biology                plant              protein      bioinformatics\n",
      "12           child          household              survey         attitude         counterpart               health         interview         neighborhood         dissertation              status\n",
      "13      preference         drosophila                beta              eye            subgroup               choice          seamount           respondent            fruit_fly             hotspot\n",
      "14           motor        chloroplast             vesicle              arm               blend             movement           control                outer         differential            reversal\n",
      "15            gulf              river             erosion         sediment               shelf                beach            banach                fruit            peninsula           transport\n",
      "16        workshop        participant                held       researcher              travel              session        discussion            scientist               attend               topic\n",
      "17       carbonate        dissolution             plastic          sulfate            altitude          interfacing        diagenesis               bonded            oligomers             bonding\n",
      "18            reef              india            oklahoma          station     wireless_sensor            coalition             delta          mississippi            upgrading              epscor\n",
      "19             rna           adhesion            invasion             mrna           collision                block          hydrogel             terranes              england         translation\n",
      "20           flood              river                 dam      meteorology             tornado             counting        floodplain             flooding          river_basin             warning\n",
      "21         zealand                sem          multiphase          boulder           packaging  university_colorado        seismicity  scanning_microscope               silica                 oce\n",
      "22         folding          nanowires             protein          colloid     electrophoresis        rearrangement          proposer             swimming             particle            nanowire\n",
      "23   nanomaterials     drinking_water                coli         delaware      travel_expense           patterning        filtration                  gps         purification             fouling\n",
      "24         teacher             school         mathematics          science                math            education          learning                youth          instruction          curriculum\n",
      "25         battery              eapsi                east             asia           electrode         asia_pacific          language              lithium          electrolyte            location\n",
      "26      fellowship              month          sponsoring            steel                wall               taiwan              host               bridge                music               frame\n",
      "27         primate          logistics                 tax            chile              monkey           costa_rica             drone                latin            migratory               human\n",
      "28        catalyst          oxidation                fuel         reaction             reactor                metal            energy              surface             chemical               lidar\n",
      "29         mercury          emergency                 hub           bubble                wake            pesticide           turbine                 wind               layout          distortion\n",
      "30         isotope           eruption            isotopic            magma                rock                 melt       composition         geochemistry              mineral       trace_element\n",
      "31       chemistry       spectrometer          instrument  instrumentation         acquisition             purchase        department                  nmr           laboratory        biochemistry\n",
      "32            corp               data               model           method           inference           estimation           problem            algorithm             analysis           estimator\n",
      "33            gene              plant                cell          protein          expression             receptor        regulation               mutant             function            mutation\n",
      "34        operator            problem         probability        statistic              vector             variable            packet                model               method          estimation\n",
      "35            grid              cyber               power          pigment             fatigue                  mhd              mill                  van   performance_liquid          resiliency\n",
      "36        congress             helium           immigrant        singapore            awardees                 mail         geography               canyon          immigration       master_degree\n",
      "37        matching       neuroscience  ray_diffractometer              iot             pricing                  mri       coexistence              traffic            forensics      transportation\n",
      "38           brain             neuron                bone        recording             routing             stimulus          drilling                 cell              network            function\n",
      "39            bird          phylogeny              flight           mammal         informatics                 wing              song               alaska               africa               kenya\n",
      "40         quantum         chromosome            electron  superconducting              matter      superconductors        transition            condensed             material              physic\n",
      "41      combustion              alloy               grain         material      microstructure          deformation       temperature          dislocation      microstructures               flame\n",
      "42            soil             dating                rock          wetland                 age           weathering            carbon               canopy           vegetation             deposit\n",
      "43        conflict              egypt        dissertation              war        anthropology             resident          november     computer_graphic        globalization           rendering\n",
      "44            rift               rice               fauna           cortex                 tag                  pfi             label               fusion                  ear        entrepreneur\n",
      "45         coating              power               phase           mating              energy                 cost            sensor               system              control          technology\n",
      "46        actuator                sun              plasma     reconnection               diode               corona        spacecraft       light_emitting                  bar                 itr\n",
      "47             ice            climate                 sea            sheet              record               change              core              glacier                shelf            sediment\n",
      "48             jet              nerve   electron_transfer          reagent            reaction            chemistry        derivative                 tide              gravity               redox\n",
      "49           fault               slip               ridge         friction           spreading                plume               egg              cutting                  gps          earthquake\n",
      "50          fossil    diversification               shell          lineage               taxon            character            island         biogeography         stratigraphy        foraminifera\n",
      "51       greenland             gender          adsorption       surfactant                foam                  men            filter            workplace          elimination               woman\n",
      "52          people         psychology            decision            court              policy      decision_making           justice           perception             judgment           cognition\n",
      "53            sger        instability         segregation        migration               shock        fragmentation             alpha            converter                pulse               judge\n",
      "54       curvature         relativity          eigenvalue         einstein                cave            chromatin               bug                korea               curved              mother\n",
      "55        equation            problem              theory         geometry               space             manifold          solution             topology                group              object\n",
      "56         calcium             sulfur             etching            burst             cooling            organelle     mitochondrion                gland            broadband               brook\n",
      "57        learning               stem             teacher          student              course             teaching         education           curriculum            classroom         engineering\n",
      "58        security             attack             network         internet             diamond                 node               hoc             protocol             wireless              summit\n",
      "59           glass         nucleation          relaxation  crystallization             crystal               russia             maine             material               liquid                 hiv\n",
      "60            site         excavation       archaeologist           gordon         archaeology         dissertation            period               region          subsistence             society\n",
      "61      earthquake             hazard              margin           damage            building              inverse       deformation               ground            structure          mitigation\n",
      "62          vessel    instrumentation     school_district             ship             teacher            accretion            cruise              october               marine        oceanography\n",
      "63         patient              phase                drug             sbir                care               sensor            health           technology               device              cancer\n",
      "64           radar             proton           cosmology        lightning             nucleus          observation       measurement                cedar             particle              pulsar\n",
      "65      collection           specimen              museum          wyoming          vertebrate            conjugate          curation            monograph            cognitive           valuation\n",
      "66           ozone            modulus            emission      hydrocarbon             aerosol                  gas       prototyping                trace   gas_chromatography            junction\n",
      "67         disease           pathogen           infection             cell            antibody           resistance           defense                plant                 race        transduction\n",
      "68        membrane            polymer          separation         material            graphene                 pore          property                blood                chain           transport\n",
      "69        software        programming        verification         language              system             compiler     specification           controller               design             control\n",
      "70          brazil           contract           tunneling           strike         compression               tunnel       manipulator                 tape             freezing           networked\n",
      "71          physic           particle               quark      accelerator              matter               energy              beam             detector           experiment               decay\n",
      "72            ring              china             integer          cornell  cornell_university                  sts               cvd         multiplicity               thomas             logging\n",
      "73          infant         clustering             radical          cyclone           microwave              nucleon           entropy             subspace         entanglement            skeleton\n",
      "74        forecast      precipitation             weather     assimilation            rainfall          forecasting              rain             politics                 muon               meson\n",
      "75             ion  mass_spectrometer   mass_spectrometry       ionization           chemistry           excitation           cluster            collision             molecule                 gas\n",
      "76            lake             insect           herbivore         revision             hearing            butterfly            eocene                sound            wisconsin              pollen\n",
      "77           plate         subduction               crust             zone          earthquake              volcano            mantle          deformation                 rock                 arc\n",
      "78         algebra         conjecture         mathematics           theory            geometry        combinatorics     mathematician             symmetry       representation  algebraic_geometry\n",
      "79            knot         fellowship            graduate              bat            vitality      carbon_nanotube     science_major             pursuing              riemann           education\n",
      "80      geoscience          committee             science      geosciences           community            education          workshop                board              council            activity\n",
      "81           robot           robotics             control             task            planning               system       environment         manipulation               august       manufacturing\n",
      "82            game            droplet               anion        grassland               party              drought             grass         substitution               cation         reflectance\n",
      "83   recombination                cap                eddy           repair              strand             ribosome           message              retreat         deglaciation               amino\n",
      "84        language             speech                word          speaker                text          linguistics       recognition              grammar           pollinator               child\n",
      "85           virus           predator                food          feeding          population               specie              host             foraging          zooplankton           predation\n",
      "86    optimization           decision          polynomial        economics             problem              theorem       uncertainty                agent               design           algorithm\n",
      "87       retrieval          inventory     synchronization     acceleration      solidification          transaction            thread      fault_tolerance                  csr           generator\n",
      "88            star               iron                disk          cluster              planet            corrosion         geotraces                 halo                 mass              client\n",
      "89         exhibit             museum             visitor          methane              canada                voice            author             charging  university_illinois           traveling\n",
      "90         student            program             college      mathematics             science          scholarship           faculty              scholar          engineering            minority\n",
      "91      disability     polymerization       exchange_idea              mit      multiprocessor       rehabilitation              cure           proceeding  university_maryland        biomechanics\n",
      "92          market               firm              policy           worker             economy                trade           capital                labor         labor_market            industry\n",
      "93           water          treatment         contaminant       wastewater          subsurface              removal               oil               stream          bifurcation         attenuation\n",
      "94     workstation             design      computer_aided              cad            computer             software        oscillator               system               cavity         engineering\n",
      "95        alliance               fish               price         symmetry               trust                 file         louisiana                stock             consumer         advertising\n",
      "96          string          invariant           democracy          auction               gauge              duality            theory             rigidity             biofilms          elasticity\n",
      "97         aerosol               seed                prof         particle        regeneration          particulate               gel                cloud             seedling                 gem\n",
      "98     circulation               wind                wave          climate         variability                model            mixing                ocean                storm           hurricane\n",
      "99          center      visualization         cooperative       university            industry               kinase        creativity                  ant            animation              design\n",
      "100           risk         programmer               patch            toxin         ion_channel           concurrent      biomaterials                covid                actor               chain\n",
      "101  nanoparticles       nanoparticle             solvent          polymer          conjugated             printing          particle          lithography             material               doped\n",
      "102          image             vision              camera            video               scene               object              bank           inspection          recognition              system\n",
      "103           fire              maize         restoration             crop              farmer          agriculture            injury                plant                 wage             farming\n",
      "104           stem            college             student          faculty           education              program       engineering               career          institution           community\n",
      "105    abstraction              wafer          colloquium         filament           volunteer            impedance  hydrogen_bonding           deficiency          discrepancy            grouping\n",
      "106       detector                ray        astrophysics         neutrino             neutron                 wave              hole                 star          observatory           telescope\n",
      "107        network          computing                data         software        architecture               system       performance          application              service            security\n",
      "108     scheduling         locomotion           magmatism             limb           locomotor              walking          collapse               reward            heuristic              garnet\n",
      "109       wireless            network       communication            radio             channel             spectrum      interference               design               coding              system\n",
      "110         specie         population               plant     biodiversity           diversity                trait           habitat         conservation            evolution               genus\n",
      "111          fluid               flow          turbulence         equation                wave            nonlinear        simulation              dynamic               vortex            particle\n",
      "112           belt           mountain              france       competence              player             fulfills         paleozoic            elevation           shock_wave              orogen\n",
      "113    groundwater               soil             aquifer          housing        liquefaction                 sand           germany         permeability            transport               water\n",
      "114         device               spin            material    semiconductor             circuit           transistor       electronics              quantum         polarization            electron\n",
      "115         plasma            protein             peptide          biomass          production                 acid        amino_acid            aggregate         fermentation                cell\n",
      "116         galaxy               star           telescope            cloud                dust               survey               gas                  ast            formation         observation\n",
      "117      chemistry           reaction           synthesis         molecule           professor             compound          catalyst                metal                 bond             complex\n",
      "118         muscle           hydrogen      carbon_dioxide          reading             methane          stimulation       puerto_rico                  gas               cement         ventilation\n",
      "119        protein             enzyme                cell          binding       cybersecurity                fiber               dna             molecule             function           structure\n",
      "120      composite           disaster      nanotechnology         recovery               march            simulator           houston          nanoscience               piston     marine_sediment\n",
      "121     settlement         inequality              desert             peru                farm                plain      dissertation              lowland               valley              coring\n",
      "122           film           material       semiconductor           device            property              surface        deposition               growth                metal         fabrication\n",
      "123    arabidopsis              waste               color     neurobiology                 rcn           appearance          landfill            incubator             handling           recycling\n",
      "124      ecosystem            climate              change            water                land            watershed            forest            landscape           management           community\n"
     ]
    }
   ],
   "source": [
    "topic_words = [[j[0] for j in lda.show_topic(i,topn = 10)] for i in range(lda.num_topics)]\n",
    "\n",
    "topic_df = pd.DataFrame(topic_words)\n",
    "\n",
    "print(topic_df.to_string())"
   ]
  },
  {
   "cell_type": "code",
   "execution_count": null,
   "id": "9bebfb63-35f6-49b2-8b09-11ecd92d0220",
   "metadata": {},
   "outputs": [],
   "source": []
  }
 ],
 "metadata": {
  "kernelspec": {
   "display_name": "Python 3",
   "language": "python",
   "name": "python3"
  },
  "language_info": {
   "codemirror_mode": {
    "name": "ipython",
    "version": 3
   },
   "file_extension": ".py",
   "mimetype": "text/x-python",
   "name": "python",
   "nbconvert_exporter": "python",
   "pygments_lexer": "ipython3",
   "version": "3.9.12"
  }
 },
 "nbformat": 4,
 "nbformat_minor": 5
}
