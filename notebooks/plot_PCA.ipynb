{
 "cells": [
  {
   "cell_type": "code",
   "execution_count": 3,
   "id": "870628f2-65ea-47e1-8802-328d0a7614ec",
   "metadata": {
    "collapsed": true,
    "jupyter": {
     "outputs_hidden": true
    },
    "tags": []
   },
   "outputs": [
    {
     "name": "stderr",
     "output_type": "stream",
     "text": [
      "/opt/homebrew/Caskroom/miniconda/base/envs/Funding-Landscape/lib/python3.9/site-packages/past/builtins/misc.py:45: DeprecationWarning: the imp module is deprecated in favour of importlib; see the module's documentation for alternative uses\n",
      "  from imp import reload\n",
      "/opt/homebrew/Caskroom/miniconda/base/envs/Funding-Landscape/lib/python3.9/site-packages/scipy/sparse/sparsetools.py:21: DeprecationWarning: `scipy.sparse.sparsetools` is deprecated!\n",
      "scipy.sparse.sparsetools is a private module for scipy.sparse, and should not be used.\n",
      "  _deprecated()\n",
      "/opt/homebrew/Caskroom/miniconda/base/envs/Funding-Landscape/lib/python3.9/site-packages/seaborn/rcmod.py:82: DeprecationWarning: distutils Version classes are deprecated. Use packaging.version instead.\n",
      "  if LooseVersion(mpl.__version__) >= \"3.0\":\n",
      "/opt/homebrew/Caskroom/miniconda/base/envs/Funding-Landscape/lib/python3.9/site-packages/setuptools/_distutils/version.py:351: DeprecationWarning: distutils Version classes are deprecated. Use packaging.version instead.\n",
      "  other = LooseVersion(other)\n"
     ]
    }
   ],
   "source": [
    "import pyLDAvis\n",
    "import numpy as np\n",
    "import pandas as pd\n",
    "import re\n",
    "import gensim\n",
    "import matplotlib.colors as mcolors\n",
    "from sklearn.manifold import TSNE\n",
    "from bokeh.plotting import figure, output_notebook, show\n",
    "from bokeh.models import Label\n",
    "from bokeh.io import output_notebook\n",
    "from pprint import pprint\n",
    "import seaborn as sns\n",
    "from sklearn.decomposition import PCA"
   ]
  },
  {
   "cell_type": "code",
   "execution_count": 4,
   "id": "982338d3-4cf3-427c-ad5a-ef379e0df8c9",
   "metadata": {},
   "outputs": [],
   "source": [
    "dictionary = gensim.corpora.Dictionary.load('../clean-data/fine-scale/UK/dictionary.dict')\n",
    "corpus = gensim.corpora.MmCorpus('../clean-data/fine-scale/UK/corpus.mm')\n",
    "lda = gensim.models.ldamulticore.LdaMulticore.load('../models/fine-scale/UK/model_101_topics')"
   ]
  },
  {
   "cell_type": "code",
   "execution_count": 5,
   "id": "c526445c-ead4-43de-a1f8-f348ecb7b1ba",
   "metadata": {},
   "outputs": [],
   "source": [
    "#topics\n",
    "N = len(corpus)\n",
    "res = np.zeros((lda.num_topics, N))\n",
    "\n",
    "for i in range(0,N):\n",
    "    topic_probs = lda.get_document_topics(corpus[i])\n",
    "    for j in topic_probs:\n",
    "        res[j[0],i] = j[1]"
   ]
  },
  {
   "cell_type": "code",
   "execution_count": 6,
   "id": "54bfbd7b-c6ec-48cd-a196-7941ee191eb5",
   "metadata": {},
   "outputs": [
    {
     "data": {
      "text/plain": [
       "47930"
      ]
     },
     "execution_count": 6,
     "metadata": {},
     "output_type": "execute_result"
    }
   ],
   "source": [
    "#filter docs with no topics\n",
    "no_topic_index = np.sum(res, axis = (0)) > 0.0\n",
    "\n",
    "sum(no_topic_index)"
   ]
  },
  {
   "cell_type": "code",
   "execution_count": 17,
   "id": "032a7a68-b136-4fab-87d4-2f2fc178af9b",
   "metadata": {},
   "outputs": [
    {
     "data": {
      "text/plain": [
       "PCA(n_components=101)"
      ]
     },
     "execution_count": 17,
     "metadata": {},
     "output_type": "execute_result"
    }
   ],
   "source": [
    "pca = PCA(n_components=101)\n",
    "pca.fit(res[:,no_topic_index].transpose())"
   ]
  },
  {
   "cell_type": "code",
   "execution_count": 18,
   "id": "1fdf286b-9db6-41c1-906c-2bcd7f818769",
   "metadata": {},
   "outputs": [
    {
     "data": {
      "text/plain": [
       "<AxesSubplot:xlabel='PCA_axis', ylabel='explained_variance'>"
      ]
     },
     "execution_count": 18,
     "metadata": {},
     "output_type": "execute_result"
    },
    {
     "data": {
      "image/png": "[encoded data removed]",
      "text/plain": [
       "<Figure size 432x288 with 1 Axes>"
      ]
     },
     "metadata": {
      "needs_background": "light"
     },
     "output_type": "display_data"
    }
   ],
   "source": [
    "df_pca = pd.DataFrame({\"explained_variance\": pca.explained_variance_})\n",
    "\n",
    "df_pca[\"PCA_axis\"] = df_pca.index\n",
    "\n",
    "sns.lineplot(x=\"PCA_axis\",y=\"explained_variance\", data=df_pca)"
   ]
  },
  {
   "cell_type": "code",
   "execution_count": 19,
   "id": "e42c3dd9-d565-4ffb-b668-f51925bf2ba6",
   "metadata": {},
   "outputs": [
    {
     "data": {
      "text/plain": [
       "<AxesSubplot:xlabel='PCA_axis', ylabel='cumulative_variance'>"
      ]
     },
     "execution_count": 19,
     "metadata": {},
     "output_type": "execute_result"
    },
    {
     "data": {
      "image/png": "[encoded data removed]",
      "text/plain": [
       "<Figure size 432x288 with 1 Axes>"
      ]
     },
     "metadata": {
      "needs_background": "light"
     },
     "output_type": "display_data"
    }
   ],
   "source": [
    "df_pca = df_pca.assign(cumulative_variance=df_pca['explained_variance'].cumsum())\n",
    "\n",
    "sns.lineplot(x=\"PCA_axis\",y=\"cumulative_variance\", data=df_pca)"
   ]
  },
  {
   "cell_type": "code",
   "execution_count": null,
   "id": "606c30bf-95b3-4815-b839-1f7a8ac4f450",
   "metadata": {},
   "outputs": [],
   "source": []
  }
 ],
 "metadata": {
  "kernelspec": {
   "display_name": "Python 3 (ipykernel)",
   "language": "python",
   "name": "python3"
  },
  "language_info": {
   "codemirror_mode": {
    "name": "ipython",
    "version": 3
   },
   "file_extension": ".py",
   "mimetype": "text/x-python",
   "name": "python",
   "nbconvert_exporter": "python",
   "pygments_lexer": "ipython3",
   "version": "3.9.12"
  }
 },
 "nbformat": 4,
 "nbformat_minor": 5
}
