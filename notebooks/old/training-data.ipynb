{
 "cells": [
  {
   "cell_type": "code",
   "execution_count": 50,
   "id": "d94acd55-ac4d-497d-bde6-92fedaabca27",
   "metadata": {
    "tags": []
   },
   "outputs": [],
   "source": [
    "import gensim\n",
    "import csv\n",
    "import pandas as pd\n",
    "import seaborn as sns\n",
    "from collections import Counter\n",
    "import os"
   ]
  },
  {
   "cell_type": "markdown",
   "id": "ccbce68e-09d6-4d32-8c78-2586719b8d6d",
   "metadata": {
    "tags": []
   },
   "source": [
    "# Introduction\n",
    "\n",
    "In this notebook we will look at the models trained on the NSF and UKRI data. These fits were done over a number of topics and are intended to be used on the whole dataset (including NIH). NIH was ommited because its relative size (i.e. number of grants) means that any model trained on that data will identify almost exclusively medical topics. "
   ]
  },
  {
   "cell_type": "markdown",
   "id": "fcb2dccb-634f-4323-a76b-66c6e5af3f79",
   "metadata": {},
   "source": [
    "Count how many rows in the tokenized titles and abstracts. "
   ]
  },
  {
   "cell_type": "code",
   "execution_count": 3,
   "id": "84214df3-5f42-430d-a990-75a0096f2251",
   "metadata": {
    "tags": []
   },
   "outputs": [
    {
     "name": "stdout",
     "output_type": "stream",
     "text": [
      "495110\n"
     ]
    }
   ],
   "source": [
    "with open(\"../clean-data/fine-scale/training-data/titles-abstracts-tokenized.csv\") as f:\n",
    "    n = sum(1 for line in f)\n",
    "    \n",
    "print(n)"
   ]
  },
  {
   "cell_type": "markdown",
   "id": "4e1c7806-a99e-4e59-b1d2-b1ccbf11c9ab",
   "metadata": {},
   "source": [
    "Load dictionary and corpus, these were made using a bigram model made with the NSF, NIH and UKRI data. The corpus and dictionary also excluded documents with less than 20 tokens."
   ]
  },
  {
   "cell_type": "code",
   "execution_count": 4,
   "id": "ecfeb1b7-8434-4875-8d6f-1f7da5889c67",
   "metadata": {
    "tags": []
   },
   "outputs": [],
   "source": [
    "dictionary = gensim.corpora.Dictionary.load('../clean-data/fine-scale/training-data/dictionary.dict')\n",
    "corpus = gensim.corpora.MmCorpus('../clean-data/fine-scale/training-data/corpus.mm')"
   ]
  },
  {
   "cell_type": "code",
   "execution_count": 5,
   "id": "355a0b51-50a8-471b-8722-9b315ea0a2af",
   "metadata": {
    "tags": []
   },
   "outputs": [
    {
     "data": {
      "text/plain": [
       "6239"
      ]
     },
     "execution_count": 5,
     "metadata": {},
     "output_type": "execute_result"
    }
   ],
   "source": [
    "len(dictionary)"
   ]
  },
  {
   "cell_type": "code",
   "execution_count": 6,
   "id": "31ef9937-58d4-4ad5-89cf-53043e48d614",
   "metadata": {
    "tags": []
   },
   "outputs": [
    {
     "data": {
      "text/plain": [
       "381908"
      ]
     },
     "execution_count": 6,
     "metadata": {},
     "output_type": "execute_result"
    }
   ],
   "source": [
    "len(corpus)"
   ]
  },
  {
   "cell_type": "markdown",
   "id": "bf84e01a-f7aa-4a56-a8a0-c1567b698d95",
   "metadata": {
    "tags": []
   },
   "source": [
    "## Coherence\n",
    "\n",
    "We can evaluate the performance of the models of differing topic sizes by looking at the u-mass coherence score. This metric effectively measures the degree to which the words in the topics identified actually tend to occur together in documents across the corpus. "
   ]
  },
  {
   "cell_type": "code",
   "execution_count": 7,
   "id": "15373c58-4b13-4d00-9b1b-4b6318e0d2f2",
   "metadata": {
    "tags": []
   },
   "outputs": [],
   "source": [
    "coherence_scores = pd.read_csv('../results/fine-scale/coherence-scores/training-data/calculated_coherence.csv')"
   ]
  },
  {
   "cell_type": "code",
   "execution_count": 42,
   "id": "5d845bef-594a-4056-a0a3-0fe56e3da892",
   "metadata": {
    "collapsed": true,
    "jupyter": {
     "outputs_hidden": true
    },
    "tags": []
   },
   "outputs": [
    {
     "data": {
      "text/html": [
       "<div>\n",
       "<style scoped>\n",
       "    .dataframe tbody tr th:only-of-type {\n",
       "        vertical-align: middle;\n",
       "    }\n",
       "\n",
       "    .dataframe tbody tr th {\n",
       "        vertical-align: top;\n",
       "    }\n",
       "\n",
       "    .dataframe thead th {\n",
       "        text-align: right;\n",
       "    }\n",
       "</style>\n",
       "<table border=\"1\" class=\"dataframe\">\n",
       "  <thead>\n",
       "    <tr style=\"text-align: right;\">\n",
       "      <th></th>\n",
       "      <th>Unnamed: 0</th>\n",
       "      <th>Topics</th>\n",
       "      <th>umass</th>\n",
       "    </tr>\n",
       "  </thead>\n",
       "  <tbody>\n",
       "    <tr>\n",
       "      <th>13</th>\n",
       "      <td>13</td>\n",
       "      <td>50</td>\n",
       "      <td>-2.516706</td>\n",
       "    </tr>\n",
       "    <tr>\n",
       "      <th>36</th>\n",
       "      <td>36</td>\n",
       "      <td>75</td>\n",
       "      <td>-2.976225</td>\n",
       "    </tr>\n",
       "    <tr>\n",
       "      <th>11</th>\n",
       "      <td>11</td>\n",
       "      <td>146</td>\n",
       "      <td>-4.251177</td>\n",
       "    </tr>\n",
       "    <tr>\n",
       "      <th>29</th>\n",
       "      <td>29</td>\n",
       "      <td>142</td>\n",
       "      <td>-4.465684</td>\n",
       "    </tr>\n",
       "    <tr>\n",
       "      <th>1</th>\n",
       "      <td>1</td>\n",
       "      <td>144</td>\n",
       "      <td>-4.481466</td>\n",
       "    </tr>\n",
       "    <tr>\n",
       "      <th>37</th>\n",
       "      <td>37</td>\n",
       "      <td>108</td>\n",
       "      <td>-4.494314</td>\n",
       "    </tr>\n",
       "    <tr>\n",
       "      <th>22</th>\n",
       "      <td>22</td>\n",
       "      <td>140</td>\n",
       "      <td>-4.613671</td>\n",
       "    </tr>\n",
       "    <tr>\n",
       "      <th>6</th>\n",
       "      <td>6</td>\n",
       "      <td>100</td>\n",
       "      <td>-4.717815</td>\n",
       "    </tr>\n",
       "    <tr>\n",
       "      <th>40</th>\n",
       "      <td>40</td>\n",
       "      <td>138</td>\n",
       "      <td>-4.779871</td>\n",
       "    </tr>\n",
       "    <tr>\n",
       "      <th>35</th>\n",
       "      <td>35</td>\n",
       "      <td>104</td>\n",
       "      <td>-4.844444</td>\n",
       "    </tr>\n",
       "    <tr>\n",
       "      <th>14</th>\n",
       "      <td>14</td>\n",
       "      <td>106</td>\n",
       "      <td>-4.856533</td>\n",
       "    </tr>\n",
       "    <tr>\n",
       "      <th>16</th>\n",
       "      <td>16</td>\n",
       "      <td>102</td>\n",
       "      <td>-4.916436</td>\n",
       "    </tr>\n",
       "    <tr>\n",
       "      <th>39</th>\n",
       "      <td>39</td>\n",
       "      <td>110</td>\n",
       "      <td>-5.025913</td>\n",
       "    </tr>\n",
       "    <tr>\n",
       "      <th>34</th>\n",
       "      <td>34</td>\n",
       "      <td>150</td>\n",
       "      <td>-5.049949</td>\n",
       "    </tr>\n",
       "    <tr>\n",
       "      <th>9</th>\n",
       "      <td>9</td>\n",
       "      <td>136</td>\n",
       "      <td>-5.057226</td>\n",
       "    </tr>\n",
       "    <tr>\n",
       "      <th>4</th>\n",
       "      <td>4</td>\n",
       "      <td>134</td>\n",
       "      <td>-5.122616</td>\n",
       "    </tr>\n",
       "    <tr>\n",
       "      <th>7</th>\n",
       "      <td>7</td>\n",
       "      <td>148</td>\n",
       "      <td>-5.138110</td>\n",
       "    </tr>\n",
       "    <tr>\n",
       "      <th>12</th>\n",
       "      <td>12</td>\n",
       "      <td>118</td>\n",
       "      <td>-5.186888</td>\n",
       "    </tr>\n",
       "    <tr>\n",
       "      <th>23</th>\n",
       "      <td>23</td>\n",
       "      <td>114</td>\n",
       "      <td>-5.231510</td>\n",
       "    </tr>\n",
       "    <tr>\n",
       "      <th>19</th>\n",
       "      <td>19</td>\n",
       "      <td>112</td>\n",
       "      <td>-5.341600</td>\n",
       "    </tr>\n",
       "    <tr>\n",
       "      <th>2</th>\n",
       "      <td>2</td>\n",
       "      <td>130</td>\n",
       "      <td>-5.374835</td>\n",
       "    </tr>\n",
       "    <tr>\n",
       "      <th>8</th>\n",
       "      <td>8</td>\n",
       "      <td>132</td>\n",
       "      <td>-5.419781</td>\n",
       "    </tr>\n",
       "    <tr>\n",
       "      <th>31</th>\n",
       "      <td>31</td>\n",
       "      <td>116</td>\n",
       "      <td>-5.446930</td>\n",
       "    </tr>\n",
       "    <tr>\n",
       "      <th>26</th>\n",
       "      <td>26</td>\n",
       "      <td>124</td>\n",
       "      <td>-5.471920</td>\n",
       "    </tr>\n",
       "    <tr>\n",
       "      <th>17</th>\n",
       "      <td>17</td>\n",
       "      <td>122</td>\n",
       "      <td>-5.484831</td>\n",
       "    </tr>\n",
       "    <tr>\n",
       "      <th>10</th>\n",
       "      <td>10</td>\n",
       "      <td>125</td>\n",
       "      <td>-5.492671</td>\n",
       "    </tr>\n",
       "    <tr>\n",
       "      <th>15</th>\n",
       "      <td>15</td>\n",
       "      <td>128</td>\n",
       "      <td>-5.512723</td>\n",
       "    </tr>\n",
       "    <tr>\n",
       "      <th>25</th>\n",
       "      <td>25</td>\n",
       "      <td>120</td>\n",
       "      <td>-5.515800</td>\n",
       "    </tr>\n",
       "    <tr>\n",
       "      <th>41</th>\n",
       "      <td>41</td>\n",
       "      <td>126</td>\n",
       "      <td>-5.673555</td>\n",
       "    </tr>\n",
       "    <tr>\n",
       "      <th>3</th>\n",
       "      <td>3</td>\n",
       "      <td>152</td>\n",
       "      <td>-5.943100</td>\n",
       "    </tr>\n",
       "    <tr>\n",
       "      <th>33</th>\n",
       "      <td>33</td>\n",
       "      <td>154</td>\n",
       "      <td>-6.082850</td>\n",
       "    </tr>\n",
       "    <tr>\n",
       "      <th>21</th>\n",
       "      <td>21</td>\n",
       "      <td>156</td>\n",
       "      <td>-6.671467</td>\n",
       "    </tr>\n",
       "    <tr>\n",
       "      <th>18</th>\n",
       "      <td>18</td>\n",
       "      <td>158</td>\n",
       "      <td>-7.423376</td>\n",
       "    </tr>\n",
       "    <tr>\n",
       "      <th>5</th>\n",
       "      <td>5</td>\n",
       "      <td>160</td>\n",
       "      <td>-7.476474</td>\n",
       "    </tr>\n",
       "    <tr>\n",
       "      <th>30</th>\n",
       "      <td>30</td>\n",
       "      <td>175</td>\n",
       "      <td>-8.668825</td>\n",
       "    </tr>\n",
       "    <tr>\n",
       "      <th>38</th>\n",
       "      <td>38</td>\n",
       "      <td>375</td>\n",
       "      <td>-8.825418</td>\n",
       "    </tr>\n",
       "    <tr>\n",
       "      <th>42</th>\n",
       "      <td>42</td>\n",
       "      <td>250</td>\n",
       "      <td>-8.825418</td>\n",
       "    </tr>\n",
       "    <tr>\n",
       "      <th>0</th>\n",
       "      <td>0</td>\n",
       "      <td>400</td>\n",
       "      <td>-8.825418</td>\n",
       "    </tr>\n",
       "    <tr>\n",
       "      <th>28</th>\n",
       "      <td>28</td>\n",
       "      <td>325</td>\n",
       "      <td>-8.825418</td>\n",
       "    </tr>\n",
       "    <tr>\n",
       "      <th>27</th>\n",
       "      <td>27</td>\n",
       "      <td>225</td>\n",
       "      <td>-8.825418</td>\n",
       "    </tr>\n",
       "    <tr>\n",
       "      <th>24</th>\n",
       "      <td>24</td>\n",
       "      <td>200</td>\n",
       "      <td>-8.825418</td>\n",
       "    </tr>\n",
       "    <tr>\n",
       "      <th>20</th>\n",
       "      <td>20</td>\n",
       "      <td>300</td>\n",
       "      <td>-8.825418</td>\n",
       "    </tr>\n",
       "    <tr>\n",
       "      <th>43</th>\n",
       "      <td>43</td>\n",
       "      <td>350</td>\n",
       "      <td>-8.825418</td>\n",
       "    </tr>\n",
       "    <tr>\n",
       "      <th>32</th>\n",
       "      <td>32</td>\n",
       "      <td>275</td>\n",
       "      <td>-8.825418</td>\n",
       "    </tr>\n",
       "  </tbody>\n",
       "</table>\n",
       "</div>"
      ],
      "text/plain": [
       "    Unnamed: 0  Topics     umass\n",
       "13          13      50 -2.516706\n",
       "36          36      75 -2.976225\n",
       "11          11     146 -4.251177\n",
       "29          29     142 -4.465684\n",
       "1            1     144 -4.481466\n",
       "37          37     108 -4.494314\n",
       "22          22     140 -4.613671\n",
       "6            6     100 -4.717815\n",
       "40          40     138 -4.779871\n",
       "35          35     104 -4.844444\n",
       "14          14     106 -4.856533\n",
       "16          16     102 -4.916436\n",
       "39          39     110 -5.025913\n",
       "34          34     150 -5.049949\n",
       "9            9     136 -5.057226\n",
       "4            4     134 -5.122616\n",
       "7            7     148 -5.138110\n",
       "12          12     118 -5.186888\n",
       "23          23     114 -5.231510\n",
       "19          19     112 -5.341600\n",
       "2            2     130 -5.374835\n",
       "8            8     132 -5.419781\n",
       "31          31     116 -5.446930\n",
       "26          26     124 -5.471920\n",
       "17          17     122 -5.484831\n",
       "10          10     125 -5.492671\n",
       "15          15     128 -5.512723\n",
       "25          25     120 -5.515800\n",
       "41          41     126 -5.673555\n",
       "3            3     152 -5.943100\n",
       "33          33     154 -6.082850\n",
       "21          21     156 -6.671467\n",
       "18          18     158 -7.423376\n",
       "5            5     160 -7.476474\n",
       "30          30     175 -8.668825\n",
       "38          38     375 -8.825418\n",
       "42          42     250 -8.825418\n",
       "0            0     400 -8.825418\n",
       "28          28     325 -8.825418\n",
       "27          27     225 -8.825418\n",
       "24          24     200 -8.825418\n",
       "20          20     300 -8.825418\n",
       "43          43     350 -8.825418\n",
       "32          32     275 -8.825418"
      ]
     },
     "execution_count": 42,
     "metadata": {},
     "output_type": "execute_result"
    }
   ],
   "source": [
    "coherence_scores.sort_values('umass', ascending=False)"
   ]
  },
  {
   "cell_type": "code",
   "execution_count": 8,
   "id": "47c122b8-e7b7-4bbb-b648-686cafc945f3",
   "metadata": {
    "tags": []
   },
   "outputs": [
    {
     "data": {
      "text/plain": [
       "<AxesSubplot:xlabel='Topics', ylabel='umass'>"
      ]
     },
     "execution_count": 8,
     "metadata": {},
     "output_type": "execute_result"
    },
    {
     "data": {
      "image/png": "[encoded data removed]",
      "text/plain": [
       "<Figure size 432x288 with 1 Axes>"
      ]
     },
     "metadata": {},
     "output_type": "display_data"
    }
   ],
   "source": [
    "sns.set_theme(style=\"ticks\")\n",
    "\n",
    "sns.lineplot(x=\"Topics\", y=\"umass\", data =coherence_scores)"
   ]
  },
  {
   "cell_type": "code",
   "execution_count": 95,
   "id": "2dbf3a59-1cc5-419d-beb8-2a57d939096b",
   "metadata": {},
   "outputs": [],
   "source": [
    "lda = gensim.models.ldamulticore.LdaMulticore.load('./results/fine-scale/lda-models/training-model/model_130_topics')"
   ]
  },
  {
   "cell_type": "code",
   "execution_count": 84,
   "id": "6afdb68e-e7ca-41e1-8b87-c2fa1f81fd19",
   "metadata": {
    "jupyter": {
     "source_hidden": true
    },
    "tags": []
   },
   "outputs": [],
   "source": [
    "output_array = []\n",
    "for j in range(lda.num_topics):\n",
    "    topic_list = [str(i[0]) for i in lda.get_topic_terms(j)]\n",
    "    topic_list.sort()\n",
    "    output_array.append(\"\".join(topic_list))"
   ]
  },
  {
   "cell_type": "code",
   "execution_count": 85,
   "id": "49d6cadf-d090-41e6-9659-f2a72907d1f6",
   "metadata": {
    "collapsed": true,
    "jupyter": {
     "outputs_hidden": true,
     "source_hidden": true
    },
    "tags": []
   },
   "outputs": [
    {
     "data": {
      "text/plain": [
       "44"
      ]
     },
     "execution_count": 85,
     "metadata": {},
     "output_type": "execute_result"
    }
   ],
   "source": [
    "max(Counter(output_array).values())"
   ]
  },
  {
   "cell_type": "code",
   "execution_count": 87,
   "id": "33ad7235-5233-4dd0-8b63-f71202d20d9f",
   "metadata": {
    "jupyter": {
     "source_hidden": true
    },
    "tags": []
   },
   "outputs": [],
   "source": [
    "topics_range = range(100, 161, 2)\n",
    "# for n in topics_range:\n",
    "#   print(n)\n",
    "os.chdir('/home/flavia/Projects/Funding-Landscape/')"
   ]
  },
  {
   "cell_type": "code",
   "execution_count": 88,
   "id": "431fcf28-d1d9-4a2d-90d8-b05ea5f22afd",
   "metadata": {
    "jupyter": {
     "source_hidden": true
    },
    "tags": []
   },
   "outputs": [],
   "source": [
    "rep_topics = []\n",
    "\n",
    "\n",
    "for K in topics_range:\n",
    "\n",
    "    file = \"./results/fine-scale/lda-models/training-model/model_\" + str(K) + \"_topics\"\n",
    "    lda = gensim.models.ldamulticore.LdaMulticore.load(file)\n",
    "\n",
    "    K = lda.num_topics\n",
    "    w_ids = []\n",
    "    for t in range(K):\n",
    "        x = lda.get_topic_terms(t)\n",
    "        w_ids.append([j[0] for j in x])\n",
    "        w_ids[t].sort()\n",
    "        w_ids[t] = \"\".join([str(w) for w in w_ids[t]])\n",
    "\n",
    "    rep_topics.append(max(Counter(w_ids).values()))"
   ]
  },
  {
   "cell_type": "code",
   "execution_count": 89,
   "id": "f9064e23-b45a-4e8f-85c0-13cfc3c73539",
   "metadata": {
    "jupyter": {
     "source_hidden": true
    },
    "tags": []
   },
   "outputs": [],
   "source": [
    "df = pd.read_csv(\"./results/fine-scale/lda-models/training-model/fitting_time_lda.csv\")"
   ]
  },
  {
   "cell_type": "code",
   "execution_count": 90,
   "id": "74aeb5f1-37f1-4919-829b-2e3412702b98",
   "metadata": {
    "jupyter": {
     "source_hidden": true
    },
    "tags": []
   },
   "outputs": [],
   "source": [
    "df[\"n_topics\"] = pd.to_numeric(df[\"n_topics\"])"
   ]
  },
  {
   "cell_type": "code",
   "execution_count": 91,
   "id": "4cb16f0b-652f-40b0-bf98-6579d19cbc04",
   "metadata": {
    "collapsed": true,
    "jupyter": {
     "outputs_hidden": true,
     "source_hidden": true
    },
    "tags": []
   },
   "outputs": [
    {
     "name": "stdout",
     "output_type": "stream",
     "text": [
      "    n_topics            fitting_time\n",
      "2        100  0 days 00:05:48.143793\n",
      "4        150  0 days 00:05:49.613167\n",
      "16       102  0 days 00:05:13.027843\n",
      "17       104  0 days 00:05:13.612920\n",
      "18       106  0 days 00:05:14.135895\n",
      "19       108  0 days 00:05:17.238912\n",
      "20       110  0 days 00:05:31.528255\n",
      "21       112  0 days 00:05:15.842809\n",
      "22       114  0 days 00:05:23.112278\n",
      "23       116  0 days 00:05:23.011810\n",
      "24       118  0 days 00:05:30.961302\n",
      "25       120  0 days 00:05:37.270091\n",
      "26       122  0 days 00:05:29.298163\n",
      "27       124  0 days 00:05:35.353275\n",
      "28       126  0 days 00:05:31.556321\n",
      "29       128  0 days 00:05:38.091935\n",
      "30       130  0 days 00:05:30.538868\n",
      "31       132  0 days 00:05:32.016785\n",
      "32       134  0 days 00:05:43.077002\n",
      "33       136  0 days 00:05:44.389846\n",
      "34       138  0 days 00:05:41.981855\n",
      "35       140  0 days 00:05:48.092468\n",
      "36       142  0 days 00:05:47.082135\n",
      "37       144  0 days 00:05:50.173260\n",
      "38       146  0 days 00:05:47.049967\n",
      "39       148  0 days 00:05:52.233360\n",
      "41       152  0 days 00:05:47.752461\n",
      "42       154  0 days 00:05:45.746832\n",
      "43       156  0 days 00:05:47.371428\n",
      "44       158  0 days 00:05:41.161683\n",
      "45       160  0 days 00:05:43.302137\n"
     ]
    },
    {
     "data": {
      "text/plain": [
       "31"
      ]
     },
     "execution_count": 91,
     "metadata": {},
     "output_type": "execute_result"
    }
   ],
   "source": [
    "df_filtered = df[df.n_topics > 99]\n",
    "df_filtered = df_filtered[df_filtered.n_topics < 161]\n",
    "df_filtered = df_filtered[df_filtered.n_topics != 125]\n",
    "df_filtered = df_filtered.drop_duplicates(subset=['n_topics'])\n",
    "\n",
    "print(df_filtered)\n",
    "len(df_filtered)"
   ]
  },
  {
   "cell_type": "code",
   "execution_count": 92,
   "id": "aa9d9616-786f-4e3d-8512-99e02f25e157",
   "metadata": {
    "collapsed": true,
    "jupyter": {
     "outputs_hidden": true,
     "source_hidden": true
    },
    "tags": []
   },
   "outputs": [
    {
     "data": {
      "text/plain": [
       "<AxesSubplot:xlabel='n_topics', ylabel='prop_rep'>"
      ]
     },
     "execution_count": 92,
     "metadata": {},
     "output_type": "execute_result"
    },
    {
     "data": {
      "image/png": "[encoded data removed]",
      "text/plain": [
       "<Figure size 432x288 with 1 Axes>"
      ]
     },
     "metadata": {},
     "output_type": "display_data"
    }
   ],
   "source": [
    "df_filtered[\"rep_topics\"] = [x for x in map(lambda x: x-1, rep_topics)]\n",
    "df_filtered[\"prop_rep\"] = df_filtered[\"rep_topics\"] / df[\"n_topics\"] \n",
    "\n",
    "sns.lineplot(data=df_filtered, x=\"n_topics\", y=\"prop_rep\")"
   ]
  },
  {
   "cell_type": "code",
   "execution_count": 96,
   "id": "c871bedd-c6a4-409a-ab59-f13f90081c73",
   "metadata": {},
   "outputs": [
    {
     "name": "stdout",
     "output_type": "stream",
     "text": [
      "                     0                  1                 2                      3                     4                    5                    6                     7                            8                    9\n",
      "0                  ray           detector             gamma                neutron           chloroplast                burst             proposer                 algae               authentication               merger\n",
      "1             matching           embedded  wave_propagation          decentralized               riemann               system                motif             networked                         mask         neurobiology\n",
      "2              quantum           material          electron          semiconductor              property               matter               device                physic                         spin               charge\n",
      "3             manifold           geometry          topology                  space             curvature               theory             equation               problem                          gps              surface\n",
      "4           earthquake         subduction            hazard               disaster                 plate               margin                 zone                  slip                    hurricane          deformation\n",
      "5           combustion             insect             flame               judgment            pollinator            herbivore           competence              fulfills                        atlas          pollination\n",
      "6                 soil               dust            carbon                 diatom                canopy            ecosystem                plant               damping                       forest                  gem\n",
      "7          disturbance             convex         statistic              southeast                banach                plain             ordering            likelihood                     reacting                 sink\n",
      "8                 game               fish           deposit            restoration  mathematics_computer                grass              wyoming                zircon                    grassland           antarctica\n",
      "9               france               knot           glacier                    ire               student                  sem         introductory               biology                 carbohydrate              science\n",
      "10              specie             fossil      biodiversity                  genus             evolution           vertebrate                 bone            speciation                    diversity           extinction\n",
      "11             polymer            coating        separation         polymerization                 chain             material       chromatography              property                    copolymer            chemistry\n",
      "12               ozone         preference          nitrogen              oxidation               auction        magnetization              nitrate           transaction                          mit    gas_chromatograph\n",
      "13              genome            disease          sequence               genomics            sequencing       bioinformatics                 gene            collection                          dna             specimen\n",
      "14          geoscience        geosciences             lipid              louisiana               geology               mexico                swarm                 pulse                     coherent           geophysics\n",
      "15              course         laboratory         chemistry                   prof              calculus              student           curriculum               radical                     computer            equipment\n",
      "16               quark             taiwan            physic               particle         contamination            logistics            partition                 gluon                        meson                  qcd\n",
      "17              mantle              plate             earth              inversion            anisotropy               alaska           tomography              velocity                         wave                 slab\n",
      "18               child              brain            muscle                   corp                parent             learning                 girl             offspring                       family         neuroscience\n",
      "19               phase               sbir            device                 sensor                 fiber  business_innovation        cybersecurity            technology                        laser                 cost\n",
      "20                 dna        replication           binding               sequence               protein          specificity            chromatin  university_wisconsin                      madison                 john\n",
      "21              tissue              river             nerve                wetland          regeneration                flood                 cell                   cue                        wafer               injury\n",
      "22            printing              sugar              tube             filtration          foraminifera       nanocomposites                  ink           asymptotics                  manipulator                maker\n",
      "23            equation            problem            theory               solution               gravity               physic                model                system                   regularity                fluid\n",
      "24              mating             colony           england                   tide             estuarine                  bay              estuary                marine  temperature_superconductors             salinity\n",
      "25                cell               gene           protein             expression            regulation                  rna               tissue              function                    mechanism      differentiation\n",
      "26            conflict              goali             toxin         discrimination                 solid                grain             religion                  eddy                        toxic            magnesium\n",
      "27             quantum    superconducting   superconductors                 cavity                  spin             electron               photon                 noise                          eye           correlated\n",
      "28           chemistry           catalyst          reaction                  metal      transition_metal              complex            synthesis              compound                    catalysis            professor\n",
      "29            wireless            network     communication                channel          interference               design               system              spectrum                       device             protocol\n",
      "30            software        programming      verification          specification                system             language                 code                design                     compiler                 tool\n",
      "31    summer_institute            request          initiate          mathematician           mathematics              scholar             location             inhibitor                      faculty              program\n",
      "32          scattering         governance               rim               mentored           percolation                 java           relaxation       renormalization         university_rochester            telephone\n",
      "33                sger         psychology          aluminum                  frame                 aging          dislocation             carolina               gallium                     polarity            cognition\n",
      "34                snow              water             korea                  egypt            phosphorus            watershed                 land                  road                         data           hydrologic\n",
      "35                reef            methane           emotion                  coral             tolerance               cortex           ionization          dissociation                 spectrometry        fragmentation\n",
      "36              design          composite     manufacturing             multimedia        computer_aided             material                  cad           prototyping                  engineering               system\n",
      "37             cluster      visualization         computing  performance_computing              computer             software                 disk                   hpc                   simulation  university_maryland\n",
      "38            reaction  electron_transfer           protein                 proton                enzyme                redox              bonding                  acid                    oxidation            chemistry\n",
      "39                firm              clock    photosynthesis                   drop              hospital           multiphase            tunneling             insulator                       sodium             industry\n",
      "40                ring              magma            basalt                   lava               volcano      crystallization              renewal             volcanism                     cleavage        carbon_carbon\n",
      "41               plant             specie        population                  trait                  seed             predator            variation                  gene                    selection            evolution\n",
      "42                stem            college           student              education               faculty               course              program           engineering                   curriculum             learning\n",
      "43                site               iron        excavation                 pollen               mercury               region         dissertation         archaeologist                      history               embryo\n",
      "44          wastewater              water             lidar            contaminant             treatment              solvent        hybridization            oscillator                        larva               hybrid\n",
      "45          turbulence                nmr           reading                    cap               vesicle              cornell                fruit    mathematics_physic                       turkey                 flow\n",
      "46               proof               salt              heat             divergence                  norm               studio          polypeptide              american                        crest                niche\n",
      "47               shelf             vessel            mixing                   ship             shipboard                 bank               cruise                powder                        ocean               column\n",
      "48      sustainability              water        resilience                 energy                policy                trade              economy            management                         food            incentive\n",
      "49               court            diamond           justice                opinion                  wire                delay                music              decoding                      voltage                 bias\n",
      "50               radar               wind             storm             convection                flight             homotopy             aircraft                  wave                      weather               winter\n",
      "51               decay              anion              cave                nucleon              hydrogen             sentence              ceramic                energy                          dam                 muon\n",
      "52               woman             gender             right               identity                policy                  men               status             interview                      capital                  law\n",
      "53              plasma               wave         nonlinear               election                 party          dissipation                laser               soliton                       physic                raman\n",
      "54       nanoparticles           molecule             laser              chemistry          spectroscopy                 atom                  ion         nanomaterials                      surface             material\n",
      "55             hormone               male              rift                 defect          reproduction                 mate            simulator              impurity                     behavior               signal\n",
      "56             teacher        mathematics            school               learning               science             teaching            education               student                         stem           curriculum\n",
      "57               graph             gordon         assurance                 tensor             generator           regression                spray             guarantee                      network             security\n",
      "58              neuron              brain          stimulus              pollution           groundwater                 vivo            recording             pollutant                air_pollution          transporter\n",
      "59            decision            patient   decision_making                   risk                health                 care           estimation                  data                        model                india\n",
      "60          chromosome            excited           nucleus                biomass                   dye               august                 vent        photochemistry                     fragment                photo\n",
      "61               cloud            aerosol        adsorption              lightning           compression             campaign               summit                bundle                   initiation           automation\n",
      "62            language           receptor       singularity             clustering                  ligo                 data              grammar                   bug                        model               system\n",
      "63            learning         instructor         reasoning                learner               student               reform            education                course                         stem             thinking\n",
      "64               image              glass             japan                 vision                camera                scene              tsunami           recognition             computer_graphic             adhesion\n",
      "65            mutation              union              pore           permeability                  trap           elasticity            branching           monte_carlo                      variant             porosity\n",
      "66               covid              virus           message                 spread              swimming            retrieval               search              ontology                   annotation                 news\n",
      "67                melt           silicate      partitioning                  fluid              pressure           weathering           seismicity               mineral                       solute       thermodynamics\n",
      "68              filter       assimilation         polarized                 ligand              affinity            filtering                  itr                   ria                      pricing           microbiome\n",
      "69            operator           equation           formula                problem                theory               proved               desert            collection                     function                  pde\n",
      "70          fellowship       cryptography          graduate            institution              pursuing              georgia              science               texture                    scientist                award\n",
      "71            antibody         transistor           circuit                 analog                 boron                 cmos            biosensor            biosensors                       switch              silicon\n",
      "72           equipment    instrumentation          purchase            acquisition              fixation            qualified            paleozoic                 cable                        flora           instrument\n",
      "73            violence         creativity          subgroup                   frog                  good           adolescent                adult             childhood        university_pittsburgh           trajectory\n",
      "74        biomaterials          aggregate            lizard                   tail              template                 cage              officer          colonization                    container             material\n",
      "75                bird          household               sex                  crime                 visit         dissertation               people                 davis                    nutrition                smith\n",
      "76                star             galaxy         telescope            observation                matter          observatory                 mass                 plume                    astronomy            formation\n",
      "77            congress          september      asia_pacific                station                  data                 seal           seismology             scientist                      science           reflection\n",
      "78                 ice                sea           climate                  water                carbon               change            ecosystem                  fire                        ocean               stream\n",
      "79               fault                mem          friction                surface              material   ray_diffractometer         request_fund              nanotube                       mother                angle\n",
      "80          scheduling         inequality           zeolite                 cation          intermediate          aggregation              elegans                   net                    purchased            pesticide\n",
      "81              policy           attitude           citizen             government                survey            community         organization               science                    democracy                 data\n",
      "82               robot           robotics           control                   task                motion             planning              surgery          manipulation                        motor              machine\n",
      "83                 reu            student              site             experience               program               summer        undergraduate                  week                      faculty              project\n",
      "84             library          viscosity        eigenvalue               berkeley               sulfide                 foam             software              workflow                        tutor               taylor\n",
      "85            fracture              crack               oil                erosion           zooplankton           surfactant               hawaii                  flow                        fluid    university_hawaii\n",
      "86           committee           workshop             panel             consortium               council               report                  acm            colloquium                    sponsored       solidification\n",
      "87            security            privacy           vehicle                 secure                attack                 file            infection                  data                   protection                  iot\n",
      "88   mass_spectrometer      transcription         greenland                   asia              homology             promoter           permafrost           elucidation                    sintering             language\n",
      "89               sheet        deformation            strain               pressure           instability              rupture         localization                stress                      bearing              glacier\n",
      "90             algebra          invariant         algebraic                 coding               routing              network            machining                  node                combinatorics              cutting\n",
      "91               plant               gene              cell              signaling               protein             bacteria          arabidopsis                 blood                         host              pathway\n",
      "92           vibration            reagent             shell                  shock              checking              proving        stabilization         metamaterials                   collection               square\n",
      "93              memory          processor      architecture               hardware           performance            computing             computer                  chip                  computation                  bit\n",
      "94                belt           mountain           plateau                  fault               melting               valley                april            topography                     seafloor             alliance\n",
      "95                lake       spectrometer             youth             activation               chemist         microbiology         biochemistry            respondent                    catalyzed           metabolite\n",
      "96               steel           building            bridge                   load            earthquake                 wall               damage               loading                       ground            structure\n",
      "97                rock            mineral           calcium          fractionation              isotopic           reinforced  university_michigan               isotope                 metamorphism         displacement\n",
      "98            membrane             sulfur              cell                  yeast              bacteria              protein                vitro                  pump                   resistance          compartment\n",
      "99            neutrino             physic          particle                   code          reconnection         astrophysics          accelerator                 outer                     stanford     charged_particle\n",
      "100            imaging         microscope        instrument             resolution             detection           microscopy               helium           acquisition                     scanning                 beam\n",
      "101             forest               tree              food                feeding             ecosystem                board         conservation               reserve                      ecology               specie\n",
      "102             string           graphene       probability                speaker                player               physic               theory                  list                    cosmology              editing\n",
      "103           particle             liquid        suspension                  fluid               crystal              droplet              colloid             phosphate                     rheology                 flow\n",
      "104             theory     representation             group               geometry            conjecture               number                curve                 space                     symmetry          mathematics\n",
      "105             market            primate         economics                  agent                 price               choice                trust                policy                       brazil                stock\n",
      "106            climate        variability            change          precipitation                record                model               region              rainfall                     holocene                scale\n",
      "107           rotation          packaging             tumor               oklahoma             recipient  university_colorado           philosophy               boulder                      welding            switching\n",
      "108            problem       optimization         algorithm                 method                speech        approximation                 data                 model                         word     machine_learning\n",
      "109          electrode             energy              fuel                battery              material                 cell          electrolyte               turbine                    animation           technology\n",
      "110            protein          chemistry           peptide               molecule             structure              folding                fungi                enzyme                     facility         biosynthesis\n",
      "111              china        archaeology         inventory                village               october           settlement          pleistocene                   oce                 dissertation            recovered\n",
      "112               stem        scholarship           student            engineering               scholar              science              program                career                      college             graduate\n",
      "113            battery              cyber            attack                lithium         vulnerability            streaming           navigation              customer       resonance_spectroscopy      millimeter_wave\n",
      "114              crust               wood             basin                  block            chronology                 rock               timing                   age                    intrusion               dating\n",
      "115            network               data           service               internet           distributed              traffic       infrastructure                  user                   management                query\n",
      "116              radio           drilling            planet                   star                  hole       interferometer         stratigraphy              colorado                         wave            accretion\n",
      "117              chaos            cascade   instrumentation       security_privacy                 fleet              sorting               system                   bar                      scanner               figure\n",
      "118             center               drug            cancer            cooperative              industry           university             analyzer             secretion                       canada            treatment\n",
      "119           workshop        participant            travel                   held            researcher              session           discussion             scientist                       attend              support\n",
      "120         controller            control    nanotechnology               actuator             photonics                  ast  university_illinois           lithography                         gate              emitter\n",
      "121            isotope              ocean            tracer            circulation                 water                 flux             isotopic                carbon                     sediment        trace_element\n",
      "122          migration          corrosion         workplace                   penn   university_missouri               russia                  ret           engineering               nanotechnology             cracking\n",
      "123              ridge          recycling           hotspot                bounded                 waste              chicago             vitality              columbia                     seamount   university_chicago\n",
      "124            grantee               race      labor_market        invited_speaker               monsoon              droplet              montana                  wage                    symposium    computer_assisted\n",
      "125           reaction          chemistry          catalyst                   bond               surface            synthesis            catalysis             professor                        metal             compound\n",
      "126        workstation                jet               arc                    cps           informatics            semantics            modelling              computer                    singapore                 root\n",
      "127         attendance              march           subunit            puerto_rico                africa                venue                forum              dialogue                        texas              speaker\n",
      "128           parasite           eruption            copper                aquifer             reservoir                magma              volcano                  zinc                   subsurface            locomotor\n",
      "129               film           material           crystal                  alloy              property               growth        semiconductor                device               nanostructures           deposition\n"
     ]
    }
   ],
   "source": [
    "topic_words = [[j[0] for j in lda.show_topic(i,topn = 10)] for i in range(lda.num_topics)]\n",
    "\n",
    "topic_df = pd.DataFrame(topic_words)\n",
    "\n",
    "print(topic_df.to_string())"
   ]
  },
  {
   "cell_type": "code",
   "execution_count": null,
   "id": "9bebfb63-35f6-49b2-8b09-11ecd92d0220",
   "metadata": {},
   "outputs": [],
   "source": []
  }
 ],
 "metadata": {
  "kernelspec": {
   "display_name": "Python 3",
   "language": "python",
   "name": "python3"
  },
  "language_info": {
   "codemirror_mode": {
    "name": "ipython",
    "version": 3
   },
   "file_extension": ".py",
   "mimetype": "text/x-python",
   "name": "python",
   "nbconvert_exporter": "python",
   "pygments_lexer": "ipython3",
   "version": "3.9.12"
  }
 },
 "nbformat": 4,
 "nbformat_minor": 5
}
