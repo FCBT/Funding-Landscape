{
 "cells": [
  {
   "cell_type": "markdown",
   "id": "df17843e-ac7d-4b5f-b983-285fb6f5ecf5",
   "metadata": {},
   "source": [
    "# How to navigate scrips and data in this repository\n",
    "\n",
    "Data is separated into 'raw' and 'clean' and within each of these, 'fine' and 'broad' scale."
   ]
  }
 ],
 "metadata": {
  "kernelspec": {
   "display_name": "Python 3 (ipykernel)",
   "language": "python",
   "name": "python3"
  },
  "language_info": {
   "codemirror_mode": {
    "name": "ipython",
    "version": 3
   },
   "file_extension": ".py",
   "mimetype": "text/x-python",
   "name": "python",
   "nbconvert_exporter": "python",
   "pygments_lexer": "ipython3",
   "version": "3.9.12"
  }
 },
 "nbformat": 4,
 "nbformat_minor": 5
}
