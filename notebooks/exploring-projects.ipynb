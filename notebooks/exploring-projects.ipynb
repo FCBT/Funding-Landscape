{
 "cells": [
  {
   "cell_type": "code",
   "execution_count": 1,
   "id": "2372e238-cd52-4e68-89e6-6737e020d2a8",
   "metadata": {},
   "outputs": [],
   "source": [
    "import pandas as pd\n",
    "import seaborn as sn"
   ]
  },
  {
   "cell_type": "code",
   "execution_count": 3,
   "id": "3be74540-883b-4c9e-a010-45d401ae79ff",
   "metadata": {},
   "outputs": [],
   "source": [
    "# load metadata\n",
    "ukri_metadata = pd.read_csv(\"../clean-data/fine-scale/UK/UKRI/UKRI-project-metadata.csv\")\n",
    "# as the USA metadata project id column is made of only numbers, python thinks it is suppose to be numeric, so coerce it into a string to avoid problems when concatenating the UKRI data.\n",
    "nsf_metadata = pd.read_csv(\"../clean-data/fine-scale/USA/NSF/NSF-project-metadata.csv\", dtype=\"object\")\n",
    "nih_metadata = pd.read_csv(\"../clean-data/fine-scale/USA/NIH/NIH-project-metadata.csv\", dtype=\"object\")\n"
   ]
  },
  {
   "cell_type": "code",
   "execution_count": 4,
   "id": "7a064115-1f93-4272-bfa0-1800454eeac2",
   "metadata": {},
   "outputs": [
    {
     "data": {
      "text/plain": [
       "3001919"
      ]
     },
     "execution_count": 4,
     "metadata": {},
     "output_type": "execute_result"
    }
   ],
   "source": [
    "all_metadata = pd.concat([ukri_metadata, nsf_metadata, nih_metadata], ignore_index=True)\n",
    "len(all_metadata)"
   ]
  },
  {
   "cell_type": "code",
   "execution_count": 5,
   "id": "cba63b58-b9ef-456f-9c06-cab1e293b511",
   "metadata": {},
   "outputs": [
    {
     "data": {
      "text/html": [
       "<div>\n",
       "<style scoped>\n",
       "    .dataframe tbody tr th:only-of-type {\n",
       "        vertical-align: middle;\n",
       "    }\n",
       "\n",
       "    .dataframe tbody tr th {\n",
       "        vertical-align: top;\n",
       "    }\n",
       "\n",
       "    .dataframe thead th {\n",
       "        text-align: right;\n",
       "    }\n",
       "</style>\n",
       "<table border=\"1\" class=\"dataframe\">\n",
       "  <thead>\n",
       "    <tr style=\"text-align: right;\">\n",
       "      <th></th>\n",
       "      <th>ProjectId</th>\n",
       "      <th>Country</th>\n",
       "      <th>CountryFundingBody</th>\n",
       "      <th>FundingBody</th>\n",
       "      <th>LeadInstitution</th>\n",
       "      <th>StartDate</th>\n",
       "      <th>EndDate</th>\n",
       "      <th>FundingAmount</th>\n",
       "      <th>FundingCurrency</th>\n",
       "    </tr>\n",
       "  </thead>\n",
       "  <tbody>\n",
       "    <tr>\n",
       "      <th>0</th>\n",
       "      <td>566EB681-6816-452F-A230-11D70589A7F1</td>\n",
       "      <td>UK</td>\n",
       "      <td>UKRI</td>\n",
       "      <td>EPSRC</td>\n",
       "      <td>University of Glasgow</td>\n",
       "      <td>30/09/2021</td>\n",
       "      <td>30/03/2025</td>\n",
       "      <td>0.0</td>\n",
       "      <td>GBP</td>\n",
       "    </tr>\n",
       "    <tr>\n",
       "      <th>1</th>\n",
       "      <td>571DFC22-1759-4B91-8DBC-1238FD72E91C</td>\n",
       "      <td>UK</td>\n",
       "      <td>UKRI</td>\n",
       "      <td>EPSRC</td>\n",
       "      <td>University of Leeds</td>\n",
       "      <td>15/01/2007</td>\n",
       "      <td>13/07/2010</td>\n",
       "      <td>437892.0</td>\n",
       "      <td>GBP</td>\n",
       "    </tr>\n",
       "    <tr>\n",
       "      <th>2</th>\n",
       "      <td>57E6F125-572F-49E6-918E-1243BB40E3F3</td>\n",
       "      <td>UK</td>\n",
       "      <td>UKRI</td>\n",
       "      <td>STFC</td>\n",
       "      <td>University of Leeds</td>\n",
       "      <td>30/09/2012</td>\n",
       "      <td>29/09/2017</td>\n",
       "      <td>284532.0</td>\n",
       "      <td>GBP</td>\n",
       "    </tr>\n",
       "    <tr>\n",
       "      <th>3</th>\n",
       "      <td>440EE7E6-F4F2-409B-BFD4-121A40502D94</td>\n",
       "      <td>UK</td>\n",
       "      <td>UKRI</td>\n",
       "      <td>BBSRC</td>\n",
       "      <td>University of Warwick</td>\n",
       "      <td>29/09/2019</td>\n",
       "      <td>20/02/2022</td>\n",
       "      <td>0.0</td>\n",
       "      <td>GBP</td>\n",
       "    </tr>\n",
       "    <tr>\n",
       "      <th>4</th>\n",
       "      <td>448AEB1F-A096-44EC-8F2A-11ACCD2C6506</td>\n",
       "      <td>UK</td>\n",
       "      <td>UKRI</td>\n",
       "      <td>BBSRC</td>\n",
       "      <td>John Innes Centre</td>\n",
       "      <td>30/09/2013</td>\n",
       "      <td>30/03/2015</td>\n",
       "      <td>190730.0</td>\n",
       "      <td>GBP</td>\n",
       "    </tr>\n",
       "  </tbody>\n",
       "</table>\n",
       "</div>"
      ],
      "text/plain": [
       "                              ProjectId Country CountryFundingBody  \\\n",
       "0  566EB681-6816-452F-A230-11D70589A7F1      UK               UKRI   \n",
       "1  571DFC22-1759-4B91-8DBC-1238FD72E91C      UK               UKRI   \n",
       "2  57E6F125-572F-49E6-918E-1243BB40E3F3      UK               UKRI   \n",
       "3  440EE7E6-F4F2-409B-BFD4-121A40502D94      UK               UKRI   \n",
       "4  448AEB1F-A096-44EC-8F2A-11ACCD2C6506      UK               UKRI   \n",
       "\n",
       "  FundingBody        LeadInstitution   StartDate     EndDate FundingAmount  \\\n",
       "0       EPSRC  University of Glasgow  30/09/2021  30/03/2025           0.0   \n",
       "1       EPSRC    University of Leeds  15/01/2007  13/07/2010      437892.0   \n",
       "2        STFC    University of Leeds  30/09/2012  29/09/2017      284532.0   \n",
       "3       BBSRC  University of Warwick  29/09/2019  20/02/2022           0.0   \n",
       "4       BBSRC      John Innes Centre  30/09/2013  30/03/2015      190730.0   \n",
       "\n",
       "  FundingCurrency  \n",
       "0             GBP  \n",
       "1             GBP  \n",
       "2             GBP  \n",
       "3             GBP  \n",
       "4             GBP  "
      ]
     },
     "execution_count": 5,
     "metadata": {},
     "output_type": "execute_result"
    }
   ],
   "source": [
    "all_metadata.head()"
   ]
  },
  {
   "cell_type": "code",
   "execution_count": 6,
   "id": "7a5a366a-f00f-4872-a5f7-95cc171b4d42",
   "metadata": {},
   "outputs": [
    {
     "data": {
      "text/plain": [
       "USA               2822576\n",
       "UK                 107831\n",
       "CANADA               5901\n",
       "UNITED KINGDOM       2409\n",
       "SOUTH AFRICA         1679\n",
       "                   ...   \n",
       "BOLIVIA                 2\n",
       "PAPUA N GUINEA          2\n",
       "ESWATINI                1\n",
       "GUINEA-BISSAU           1\n",
       "ECUADOR                 1\n",
       "Name: Country, Length: 131, dtype: int64"
      ]
     },
     "execution_count": 6,
     "metadata": {},
     "output_type": "execute_result"
    }
   ],
   "source": [
    "all_metadata.Country.value_counts()"
   ]
  },
  {
   "cell_type": "code",
   "execution_count": 7,
   "id": "1d996890-b34b-4fb5-be5c-35f8414b338b",
   "metadata": {},
   "outputs": [
    {
     "data": {
      "text/plain": [
       "NIH     2621654\n",
       "NSF      272434\n",
       "UKRI     107831\n",
       "Name: CountryFundingBody, dtype: int64"
      ]
     },
     "execution_count": 7,
     "metadata": {},
     "output_type": "execute_result"
    }
   ],
   "source": [
    "all_metadata.CountryFundingBody.value_counts()"
   ]
  },
  {
   "cell_type": "code",
   "execution_count": 8,
   "id": "32986cc2-6926-4e47-8d9a-2e1461b7785f",
   "metadata": {},
   "outputs": [
    {
     "data": {
      "text/plain": [
       "NATIONAL CANCER INSTITUTE                                                    341513\n",
       "NATIONAL CENTER FOR RESEARCH RESOURCES                                       254930\n",
       "NATIONAL INSTITUTE OF GENERAL MEDICAL SCIENCES                               231829\n",
       "NATIONAL HEART, LUNG, AND BLOOD INSTITUTE                                    226837\n",
       "NATIONAL INSTITUTE OF ALLERGY AND INFECTIOUS DISEASES                        221970\n",
       "                                                                              ...  \n",
       "CLINICAL PHARMACOLOGY AND TOXICOLOGY BRANCH                                       4\n",
       "OFFICE OF CHIEF PUBLIC HEALTH PRACTICE                                            4\n",
       "TWO OR MORE SPONSORS                                                              2\n",
       "COORDINATING CENTER FOR INFECTIOUS DISEASES                                       1\n",
       "HEALTH RESOURCES AND SERVICES ADMINISTRATION/BUREAU OF HEALTH PROFESSIONS         1\n",
       "Name: FundingBody, Length: 133, dtype: int64"
      ]
     },
     "execution_count": 8,
     "metadata": {},
     "output_type": "execute_result"
    }
   ],
   "source": [
    "all_metadata.FundingBody.value_counts()"
   ]
  },
  {
   "cell_type": "code",
   "execution_count": 9,
   "id": "e02d3980-7c4b-48d9-b68c-91d06f7dcead",
   "metadata": {},
   "outputs": [
    {
     "data": {
      "text/plain": [
       "Country   CountryFundingBody  FundingBody                                                                    \n",
       "ALBANIA   NIH                 National Center for Immunization and Respiratory Diseases (NCIRD)                   3\n",
       "ANGOLA    NIH                 COORDINATING OFFICE OF GLOBAL HEALTH                                                1\n",
       "                              Center for Global Health                                                            2\n",
       "                              NATIONAL CENTER FOR HIV, VIRAL HEPATITIS, STDS AND TB PREVENTION                    4\n",
       "                              NATIONAL CENTER FOR IMMUNICATION AND RESPIRATORY DISEASES                           1\n",
       "                                                                                                                 ..\n",
       "ZIMBABWE  NIH                 NATIONAL CENTER FOR INFECTIOUS DISEASES (NCID)                                     11\n",
       "                              NATIONAL HEART, LUNG, AND BLOOD INSTITUTE                                           1\n",
       "                              NATIONAL HUMAN GENOME RESEARCH INSTITUTE                                            4\n",
       "                              NATIONAL INSTITUTE OF ALLERGY AND INFECTIOUS DISEASES                               4\n",
       "                              National Center for HIV/AIDS, Viral Hepatitis, STD, and TB Prevention (NCHHSTP)    24\n",
       "Length: 1168, dtype: int64"
      ]
     },
     "execution_count": 9,
     "metadata": {},
     "output_type": "execute_result"
    }
   ],
   "source": [
    "all_metadata.groupby(['Country', 'CountryFundingBody', 'FundingBody']).size()"
   ]
  },
  {
   "cell_type": "code",
   "execution_count": 11,
   "id": "2a99d45c-e5d7-4998-96b9-d64efde39fe3",
   "metadata": {},
   "outputs": [
    {
     "data": {
      "text/plain": [
       "CountryFundingBody  FundingBody                                        \n",
       "NIH                 AGENCY FOR HEALTHCARE RESEARCH AND QUALITY             13338\n",
       "                    AGENCY FOR TOXIC SUBSTANCES AND DISEASE REGISTRY        1077\n",
       "                    Administration for Children and Families                 319\n",
       "                    BIOLOGICS-IMMUNOLOGY AND INFECTIOUS DISEASES BRANCH        7\n",
       "                    BUREAU OF HEALTH PLANNING AND RESOURCES DEVELOPMENT      197\n",
       "                                                                           ...  \n",
       "UKRI                EPSRC                                                  33924\n",
       "                    Innovate UK                                            25425\n",
       "                    MRC                                                    12508\n",
       "                    NERC                                                   11011\n",
       "                    STFC                                                    7190\n",
       "Length: 133, dtype: int64"
      ]
     },
     "execution_count": 11,
     "metadata": {},
     "output_type": "execute_result"
    }
   ],
   "source": [
    "all_metadata.groupby(['CountryFundingBody', 'FundingBody']).size()"
   ]
  },
  {
   "cell_type": "code",
   "execution_count": 12,
   "id": "f77959a8-b842-492f-a582-9ccc70e720a7",
   "metadata": {},
   "outputs": [
    {
     "data": {
      "text/plain": [
       "EPSRC          33924\n",
       "Innovate UK    25425\n",
       "BBSRC          17773\n",
       "MRC            12508\n",
       "NERC           11011\n",
       "STFC            7190\n",
       "Name: FundingBody, dtype: int64"
      ]
     },
     "execution_count": 12,
     "metadata": {},
     "output_type": "execute_result"
    }
   ],
   "source": [
    "ukri_metadata.FundingBody.value_counts()"
   ]
  },
  {
   "cell_type": "code",
   "execution_count": 13,
   "id": "a024d08e-236a-4814-b1ee-6cc267a687a2",
   "metadata": {},
   "outputs": [
    {
     "data": {
      "text/plain": [
       "MPS    86877\n",
       "GEO    57177\n",
       "ENG    56193\n",
       "BIO    54762\n",
       "TIP    17425\n",
       "Name: FundingBody, dtype: int64"
      ]
     },
     "execution_count": 13,
     "metadata": {},
     "output_type": "execute_result"
    }
   ],
   "source": [
    "nsf_metadata.FundingBody.value_counts()"
   ]
  },
  {
   "cell_type": "code",
   "execution_count": 14,
   "id": "60286183-2ef9-4c05-af33-de39e627f973",
   "metadata": {},
   "outputs": [
    {
     "data": {
      "text/plain": [
       "NATIONAL CANCER INSTITUTE                                                    341513\n",
       "NATIONAL CENTER FOR RESEARCH RESOURCES                                       254930\n",
       "NATIONAL INSTITUTE OF GENERAL MEDICAL SCIENCES                               231829\n",
       "NATIONAL HEART, LUNG, AND BLOOD INSTITUTE                                    226837\n",
       "NATIONAL INSTITUTE OF ALLERGY AND INFECTIOUS DISEASES                        221970\n",
       "                                                                              ...  \n",
       "OFFICE OF CHIEF PUBLIC HEALTH PRACTICE                                            4\n",
       "CLINICAL PHARMACOLOGY AND TOXICOLOGY BRANCH                                       4\n",
       "TWO OR MORE SPONSORS                                                              2\n",
       "HEALTH RESOURCES AND SERVICES ADMINISTRATION/BUREAU OF HEALTH PROFESSIONS         1\n",
       "COORDINATING CENTER FOR INFECTIOUS DISEASES                                       1\n",
       "Name: FundingBody, Length: 122, dtype: int64"
      ]
     },
     "execution_count": 14,
     "metadata": {},
     "output_type": "execute_result"
    }
   ],
   "source": [
    "nih_metadata.FundingBody.value_counts()"
   ]
  },
  {
   "cell_type": "code",
   "execution_count": 15,
   "id": "1431cf0e-b9f1-4564-bf9c-d564382f904f",
   "metadata": {},
   "outputs": [],
   "source": [
    "tokens = pd.read_csv(\"../clean-data/fine-scale/UK-USA/titles-abstracts-tokenized.csv\", dtype=\"object\")"
   ]
  },
  {
   "cell_type": "code",
   "execution_count": 16,
   "id": "b8da8324-d59f-443b-b05d-7d568503bd6f",
   "metadata": {},
   "outputs": [
    {
     "data": {
      "text/html": [
       "<div>\n",
       "<style scoped>\n",
       "    .dataframe tbody tr th:only-of-type {\n",
       "        vertical-align: middle;\n",
       "    }\n",
       "\n",
       "    .dataframe tbody tr th {\n",
       "        vertical-align: top;\n",
       "    }\n",
       "\n",
       "    .dataframe thead th {\n",
       "        text-align: right;\n",
       "    }\n",
       "</style>\n",
       "<table border=\"1\" class=\"dataframe\">\n",
       "  <thead>\n",
       "    <tr style=\"text-align: right;\">\n",
       "      <th></th>\n",
       "      <th>ProjectId</th>\n",
       "      <th>TitleAbstract</th>\n",
       "    </tr>\n",
       "  </thead>\n",
       "  <tbody>\n",
       "    <tr>\n",
       "      <th>0</th>\n",
       "      <td>6507783</td>\n",
       "      <td>['oncology', 'award', 'internist', 'training',...</td>\n",
       "    </tr>\n",
       "    <tr>\n",
       "      <th>1</th>\n",
       "      <td>8305231</td>\n",
       "      <td>['role', 'glia', 'formation', 'synapsis', 'syn...</td>\n",
       "    </tr>\n",
       "    <tr>\n",
       "      <th>2</th>\n",
       "      <td>8904702</td>\n",
       "      <td>['umbrella', 'amphotericin', 'conjugate', 'umb...</td>\n",
       "    </tr>\n",
       "    <tr>\n",
       "      <th>3</th>\n",
       "      <td>2024085</td>\n",
       "      <td>['measuring', 'gain', 'goal', 'application', '...</td>\n",
       "    </tr>\n",
       "    <tr>\n",
       "      <th>4</th>\n",
       "      <td>2205115</td>\n",
       "      <td>['imaging', 'hardcopy']</td>\n",
       "    </tr>\n",
       "  </tbody>\n",
       "</table>\n",
       "</div>"
      ],
      "text/plain": [
       "  ProjectId                                      TitleAbstract\n",
       "0   6507783  ['oncology', 'award', 'internist', 'training',...\n",
       "1   8305231  ['role', 'glia', 'formation', 'synapsis', 'syn...\n",
       "2   8904702  ['umbrella', 'amphotericin', 'conjugate', 'umb...\n",
       "3   2024085  ['measuring', 'gain', 'goal', 'application', '...\n",
       "4   2205115                            ['imaging', 'hardcopy']"
      ]
     },
     "execution_count": 16,
     "metadata": {},
     "output_type": "execute_result"
    }
   ],
   "source": [
    "tokens.head()"
   ]
  },
  {
   "cell_type": "code",
   "execution_count": null,
   "id": "cce85624-0230-461d-8926-9f522f5d297c",
   "metadata": {},
   "outputs": [],
   "source": []
  }
 ],
 "metadata": {
  "kernelspec": {
   "display_name": "Python 3",
   "language": "python",
   "name": "python3"
  },
  "language_info": {
   "codemirror_mode": {
    "name": "ipython",
    "version": 3
   },
   "file_extension": ".py",
   "mimetype": "text/x-python",
   "name": "python",
   "nbconvert_exporter": "python",
   "pygments_lexer": "ipython3",
   "version": "3.9.12"
  }
 },
 "nbformat": 4,
 "nbformat_minor": 5
}
